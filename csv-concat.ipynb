{
 "cells": [
  {
   "cell_type": "markdown",
   "metadata": {},
   "source": [
    "# CSV concatenation\n",
    "- reads in csv files\n",
    "- for each entry: add value for 'mining-tag'\n",
    "- merge concent of csv file to 1 file"
   ]
  },
  {
   "cell_type": "code",
   "execution_count": 1,
   "metadata": {},
   "outputs": [],
   "source": [
    "# data processing, CSV file I/O\n",
    "import pandas\n",
    "#file IO etc.\n",
    "import glob"
   ]
  },
  {
   "cell_type": "code",
   "execution_count": 2,
   "metadata": {},
   "outputs": [],
   "source": [
    "# Path- and File- variables\n",
    "folder_out = \"data-merge\"\n",
    "file_out = \"merged-data-tweets.csv\"\n",
    "inFolder = \"data-mining\""
   ]
  },
  {
   "cell_type": "code",
   "execution_count": 3,
   "metadata": {},
   "outputs": [
    {
     "output_type": "stream",
     "name": "stdout",
     "text": [
      "['data-mining\\\\Apple 20201022-22u20.csv', 'data-mining\\\\Apple 20201022-22u46.csv', 'data-mining\\\\Apple 20201022-22u47.csv', 'data-mining\\\\Apple 20201022-23u40.csv', 'data-mining\\\\Apple 20201024-01u12.csv', 'data-mining\\\\Apple 20201024-21u00.csv', 'data-mining\\\\Apple 20201025-20u45.csv', 'data-mining\\\\Apple 20201026-23u34.csv', 'data-mining\\\\Apple 20201027-22u13.csv', 'data-mining\\\\Apple 20201029-11u12.csv', 'data-mining\\\\Apple 20201030-17u47.csv', 'data-mining\\\\Apple 20201101-13u15.csv', 'data-mining\\\\BBC 20201022-22u20.csv', 'data-mining\\\\BBC 20201022-22u46.csv', 'data-mining\\\\BBC 20201022-22u47.csv', 'data-mining\\\\BBC 20201022-23u40.csv', 'data-mining\\\\BBC 20201024-01u12.csv', 'data-mining\\\\BBC 20201024-21u00.csv', 'data-mining\\\\BBC 20201025-20u45.csv', 'data-mining\\\\BBC 20201026-23u34.csv', 'data-mining\\\\BBC 20201027-22u13.csv', 'data-mining\\\\BBC 20201029-11u12.csv', 'data-mining\\\\BBC 20201030-17u47.csv', 'data-mining\\\\BBC 20201101-13u15.csv', 'data-mining\\\\CNN 20201022-22u20.csv', 'data-mining\\\\CNN 20201022-22u46.csv', 'data-mining\\\\CNN 20201022-22u47.csv', 'data-mining\\\\CNN 20201022-23u40.csv', 'data-mining\\\\CNN 20201024-01u12.csv', 'data-mining\\\\CNN 20201024-21u00.csv', 'data-mining\\\\CNN 20201025-20u45.csv', 'data-mining\\\\CNN 20201026-23u34.csv', 'data-mining\\\\CNN 20201027-22u13.csv', 'data-mining\\\\CNN 20201029-11u12.csv', 'data-mining\\\\CNN 20201030-17u47.csv', 'data-mining\\\\CNN 20201101-13u15.csv', 'data-mining\\\\Google 20201022-22u20.csv', 'data-mining\\\\Google 20201022-22u46.csv', 'data-mining\\\\Google 20201022-22u47.csv', 'data-mining\\\\Google 20201022-23u40.csv', 'data-mining\\\\Google 20201024-01u12.csv', 'data-mining\\\\Google 20201024-21u00.csv', 'data-mining\\\\Google 20201025-20u45.csv', 'data-mining\\\\Google 20201026-23u34.csv', 'data-mining\\\\Google 20201027-22u13.csv', 'data-mining\\\\Google 20201029-11u12.csv', 'data-mining\\\\Google 20201030-17u47.csv', 'data-mining\\\\Google 20201101-13u15.csv', 'data-mining\\\\Huawei 20201022-22u20.csv', 'data-mining\\\\Huawei 20201022-22u46.csv', 'data-mining\\\\Huawei 20201022-22u47.csv', 'data-mining\\\\Huawei 20201022-23u40.csv', 'data-mining\\\\Huawei 20201024-01u12.csv', 'data-mining\\\\Huawei 20201024-21u00.csv', 'data-mining\\\\Huawei 20201025-20u45.csv', 'data-mining\\\\Huawei 20201026-23u34.csv', 'data-mining\\\\Huawei 20201027-22u13.csv', 'data-mining\\\\Huawei 20201029-11u12.csv', 'data-mining\\\\Huawei 20201030-17u47.csv', 'data-mining\\\\Huawei 20201101-13u15.csv', 'data-mining\\\\Microsoft 20201022-22u20.csv', 'data-mining\\\\Microsoft 20201022-22u46.csv', 'data-mining\\\\Microsoft 20201022-22u47.csv', 'data-mining\\\\Microsoft 20201022-23u40.csv', 'data-mining\\\\Microsoft 20201024-01u12.csv', 'data-mining\\\\Microsoft 20201024-21u00.csv', 'data-mining\\\\Microsoft 20201025-20u45.csv', 'data-mining\\\\Microsoft 20201026-23u34.csv', 'data-mining\\\\Microsoft 20201027-22u13.csv', 'data-mining\\\\Microsoft 20201029-11u12.csv', 'data-mining\\\\Microsoft 20201030-17u47.csv', 'data-mining\\\\Microsoft 20201101-13u15.csv', 'data-mining\\\\News 20201022-22u20.csv', 'data-mining\\\\News 20201022-22u46.csv', 'data-mining\\\\News 20201022-22u47.csv', 'data-mining\\\\News 20201022-23u40.csv', 'data-mining\\\\News 20201024-01u12.csv', 'data-mining\\\\News 20201024-21u00.csv', 'data-mining\\\\News 20201025-20u45.csv', 'data-mining\\\\News 20201026-23u34.csv', 'data-mining\\\\News 20201027-22u13.csv', 'data-mining\\\\News 20201029-11u12.csv', 'data-mining\\\\News 20201030-17u47.csv', 'data-mining\\\\News 20201101-13u15.csv', 'data-mining\\\\Sony 20201022-22u20.csv', 'data-mining\\\\Sony 20201022-22u46.csv', 'data-mining\\\\Sony 20201022-22u47.csv', 'data-mining\\\\Sony 20201022-23u40.csv', 'data-mining\\\\Sony 20201024-01u12.csv', 'data-mining\\\\Sony 20201024-21u00.csv', 'data-mining\\\\Sony 20201025-20u45.csv', 'data-mining\\\\Sony 20201026-23u34.csv', 'data-mining\\\\Sony 20201027-22u13.csv', 'data-mining\\\\Sony 20201029-11u12.csv', 'data-mining\\\\Sony 20201030-17u47.csv', 'data-mining\\\\Sony 20201101-13u15.csv']\n"
     ]
    }
   ],
   "source": [
    "all_files = glob.glob(os.path.join(inFolder, \"*.csv\"))\n",
    "print(all_files)"
   ]
  },
  {
   "cell_type": "code",
   "execution_count": 4,
   "metadata": {},
   "outputs": [
    {
     "output_type": "stream",
     "name": "stdout",
     "text": [
      "96\n"
     ]
    }
   ],
   "source": [
    "counter_file =0\n",
    "\n",
    "all_files = glob.glob(os.path.join(inFolder, \"*.csv\"))\n",
    "\n",
    "all_df = []\n",
    "for f in all_files:\n",
    "    df = pandas.read_csv(f, sep=',')\n",
    "    filename = f.split('\\\\')[1]\n",
    "    mining_tag = filename.split(' ')[0]\n",
    "    df['mining_tag'] = mining_tag\n",
    "    all_df.append(df)\n",
    "    counter_file +=1\n",
    "\n",
    "merged_df = pandas.concat(all_df, ignore_index=True, sort=False)\n",
    "merged_df.head()\n",
    "\n",
    "merged_df.to_csv(os.path.join(folder_out, file_out))\n",
    "\n",
    "\n",
    "print(counter_file)"
   ]
  },
  {
   "cell_type": "code",
   "execution_count": null,
   "metadata": {},
   "outputs": [],
   "source": []
  }
 ],
 "metadata": {
  "kernelspec": {
   "display_name": "Python 3",
   "language": "python",
   "name": "python3"
  },
  "language_info": {
   "codemirror_mode": {
    "name": "ipython",
    "version": 3
   },
   "file_extension": ".py",
   "mimetype": "text/x-python",
   "name": "python",
   "nbconvert_exporter": "python",
   "pygments_lexer": "ipython3",
   "version": "3.8.3-final"
  }
 },
 "nbformat": 4,
 "nbformat_minor": 4
}